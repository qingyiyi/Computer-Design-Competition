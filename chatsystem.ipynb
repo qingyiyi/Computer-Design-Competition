{
 "cells": [
  {
   "cell_type": "code",
   "execution_count": 1,
   "metadata": {},
   "outputs": [
    {
     "name": "stderr",
     "output_type": "stream",
     "text": [
      "d:\\Anaconda\\envs\\computer_design\\lib\\site-packages\\tqdm\\auto.py:22: TqdmWarning: IProgress not found. Please update jupyter and ipywidgets. See https://ipywidgets.readthedocs.io/en/stable/user_install.html\n",
      "  from .autonotebook import tqdm as notebook_tqdm\n"
     ]
    }
   ],
   "source": [
    "import wave\n",
    "import pyaudio\n",
    "import openai\n",
    "import whisper"
   ]
  },
  {
   "cell_type": "code",
   "execution_count": 2,
   "metadata": {},
   "outputs": [],
   "source": [
    "class voice:\n",
    "    #定义数据流块\n",
    "    CHUNK = 1024\n",
    "    FORMAT = pyaudio.paInt16\n",
    "    CHANNELS = 2\n",
    "    RATE = 44100\n",
    "    #录音时间\n",
    "    RECORD_SECONDS = 5\n",
    "    frames = []\n",
    "\n",
    "    def push_stream(self):\n",
    "        #打开数据流    \n",
    "        self.p = pyaudio.PyAudio()\n",
    "        #设定捕获参数\n",
    "        stream = self.p.open(format=self.FORMAT, channels=self.CHANNELS, rate=self.RATE, input=True, frames_per_buffer=self.CHUNK)\n",
    "        print(\"* recording\")        \n",
    "        for i in range(0, int(self.RATE / self.CHUNK * self.RECORD_SECONDS)):\n",
    "            data = stream.read(self.CHUNK)\n",
    "            self.frames.append(data)\n",
    "\n",
    "        stream.stop_stream()\n",
    "        stream.close()\n",
    "        self.p.terminate()\n",
    "\n",
    "    def save(self,Path):\n",
    "        #写入录音文件\n",
    "        wf = wave.open(Path, 'wb')\n",
    "        wf.setnchannels(self.CHANNELS)\n",
    "        wf.setsampwidth(self.p.get_sample_size(self.FORMAT))\n",
    "        wf.setframerate(self.RATE)\n",
    "        wf.writeframes(b''.join(self.frames))\n",
    "        wf.close()\n",
    "\n",
    "    def convert(self,Path):\n",
    "        model = whisper.load_model(\"base\")\n",
    "        result = model.transcribe(\"audio.wav\")\n",
    "        return result[\"text\"]\n",
    "        \n",
    "    def chat(text):\n",
    "        # Set your API key\n",
    "        openai.api_key = \"\"\n",
    "        # Use the GPT-3 model\n",
    "        completion = openai.Completion.create(\n",
    "            engine=\"text-davinci-002\",\n",
    "            prompt=text,\n",
    "            max_tokens=1024,\n",
    "            temperature=0.5\n",
    "        )\n",
    "        # Print the generated text\n",
    "        return completion.choices[0].text"
   ]
  },
  {
   "cell_type": "code",
   "execution_count": 3,
   "metadata": {},
   "outputs": [],
   "source": [
    "# model = whisper.load_model(\"base\")\n",
    "# result = model.transcribe(\"audio.wav\")\n",
    "# print(result[\"text\"])"
   ]
  },
  {
   "cell_type": "code",
   "execution_count": 4,
   "metadata": {},
   "outputs": [],
   "source": [
    "# # Set your API key\n",
    "# openai.api_key = \"\"\n",
    "# # Use the GPT-3 model\n",
    "# completion = openai.Completion.create(\n",
    "#     engine=\"text-davinci-002\",\n",
    "#     prompt=result[\"text\"],\n",
    "#     max_tokens=1024,\n",
    "#     temperature=0.5\n",
    "# )\n",
    "# # Print the generated text\n",
    "# print(completion.choices[0].text)\n"
   ]
  },
  {
   "cell_type": "code",
   "execution_count": 5,
   "metadata": {},
   "outputs": [
    {
     "name": "stdout",
     "output_type": "stream",
     "text": [
      "* recording\n"
     ]
    },
    {
     "name": "stderr",
     "output_type": "stream",
     "text": [
      "d:\\Anaconda\\envs\\computer_design\\lib\\site-packages\\whisper\\transcribe.py:78: UserWarning: FP16 is not supported on CPU; using FP32 instead\n",
      "  warnings.warn(\"FP16 is not supported on CPU; using FP32 instead\")\n"
     ]
    },
    {
     "name": "stdout",
     "output_type": "stream",
     "text": [
      "\n"
     ]
    }
   ],
   "source": [
    "if __name__ == \"__main__\":\n",
    "    r = voice()\n",
    "    r.push_stream()\n",
    "    r.save('audio.wav')\n",
    "    text = r.convert('audio.wav')\n",
    "    print(text)\n",
    "    #reply = r.chat(text)\n",
    "    #print(reply)"
   ]
  }
 ],
 "metadata": {
  "kernelspec": {
   "display_name": "base",
   "language": "python",
   "name": "python3"
  },
  "language_info": {
   "codemirror_mode": {
    "name": "ipython",
    "version": 3
   },
   "file_extension": ".py",
   "mimetype": "text/x-python",
   "name": "python",
   "nbconvert_exporter": "python",
   "pygments_lexer": "ipython3",
   "version": "3.9.7"
  },
  "orig_nbformat": 4,
  "vscode": {
   "interpreter": {
    "hash": "88279d2366fe020547cde40dd65aa0e3aa662a6ec1f3ca12d88834876c85e1a6"
   }
  }
 },
 "nbformat": 4,
 "nbformat_minor": 2
}
